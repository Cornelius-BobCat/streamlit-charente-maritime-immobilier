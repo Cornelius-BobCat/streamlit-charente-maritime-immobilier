{
 "cells": [
  {
   "cell_type": "code",
   "execution_count": 2,
   "id": "58624eb0",
   "metadata": {},
   "outputs": [],
   "source": [
    "import pandas as pd"
   ]
  },
  {
   "cell_type": "code",
   "execution_count": 9,
   "id": "d02d0e27",
   "metadata": {},
   "outputs": [
    {
     "name": "stderr",
     "output_type": "stream",
     "text": [
      "/var/folders/nz/xhcvl6_17cb_xn608wktx0bc0000gn/T/ipykernel_3747/200777853.py:1: DtypeWarning: Columns (14,16) have mixed types. Specify dtype option on import or set low_memory=False.\n",
      "  df = pd.read_csv('df_17.csv')\n"
     ]
    }
   ],
   "source": [
    "df = pd.read_csv('df_17.csv')"
   ]
  },
  {
   "cell_type": "code",
   "execution_count": 12,
   "id": "49b123ff",
   "metadata": {},
   "outputs": [
    {
     "data": {
      "text/plain": [
       "(52297, 43)"
      ]
     },
     "execution_count": 12,
     "metadata": {},
     "output_type": "execute_result"
    }
   ],
   "source": [
    "df.shape"
   ]
  },
  {
   "cell_type": "code",
   "execution_count": 14,
   "id": "15f2f0dd",
   "metadata": {},
   "outputs": [],
   "source": [
    "# Créer une nouvelle colonne avec le résultat de la division\n",
    "df['ratio'] = df.apply(lambda row: row['valeur_fonciere'] / row['surface_reelle_bati'], axis=1)"
   ]
  },
  {
   "cell_type": "code",
   "execution_count": null,
   "id": "bc97b271",
   "metadata": {},
   "outputs": [],
   "source": []
  },
  {
   "cell_type": "code",
   "execution_count": 15,
   "id": "893b825a",
   "metadata": {},
   "outputs": [
    {
     "data": {
      "text/plain": [
       "(52297, 44)"
      ]
     },
     "execution_count": 15,
     "metadata": {},
     "output_type": "execute_result"
    }
   ],
   "source": [
    "df.shape"
   ]
  },
  {
   "cell_type": "code",
   "execution_count": 16,
   "id": "48b153ef",
   "metadata": {},
   "outputs": [],
   "source": [
    "# Filtrer les lignes où le ratio est inférieur ou égal à 15,000\n",
    "df = df.loc[df['ratio'] <= 15000]"
   ]
  },
  {
   "cell_type": "code",
   "execution_count": 17,
   "id": "42d35e1b",
   "metadata": {},
   "outputs": [
    {
     "data": {
      "text/plain": [
       "(52020, 44)"
      ]
     },
     "execution_count": 17,
     "metadata": {},
     "output_type": "execute_result"
    }
   ],
   "source": [
    "df.shape"
   ]
  },
  {
   "cell_type": "code",
   "execution_count": 18,
   "id": "935cae81",
   "metadata": {},
   "outputs": [],
   "source": [
    "# Supprimer la colonne du ratio (si nécessaire)\n",
    "df = df.drop('ratio', axis=1)"
   ]
  },
  {
   "cell_type": "code",
   "execution_count": 20,
   "id": "d80d1c68",
   "metadata": {},
   "outputs": [
    {
     "data": {
      "text/plain": [
       "(52020, 43)"
      ]
     },
     "execution_count": 20,
     "metadata": {},
     "output_type": "execute_result"
    }
   ],
   "source": [
    "df.shape"
   ]
  },
  {
   "cell_type": "code",
   "execution_count": null,
   "id": "6514a89d",
   "metadata": {},
   "outputs": [],
   "source": []
  }
 ],
 "metadata": {
  "kernelspec": {
   "display_name": "Python 3 (ipykernel)",
   "language": "python",
   "name": "python3"
  },
  "language_info": {
   "codemirror_mode": {
    "name": "ipython",
    "version": 3
   },
   "file_extension": ".py",
   "mimetype": "text/x-python",
   "name": "python",
   "nbconvert_exporter": "python",
   "pygments_lexer": "ipython3",
   "version": "3.10.9"
  }
 },
 "nbformat": 4,
 "nbformat_minor": 5
}
